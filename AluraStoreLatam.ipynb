{
  "nbformat": 4,
  "nbformat_minor": 0,
  "metadata": {
    "colab": {
      "provenance": [],
      "toc_visible": true,
      "include_colab_link": true
    },
    "kernelspec": {
      "name": "python3",
      "display_name": "Python 3"
    },
    "language_info": {
      "name": "python"
    }
  },
  "cells": [
    {
      "cell_type": "markdown",
      "metadata": {
        "id": "view-in-github",
        "colab_type": "text"
      },
      "source": [
        "<a href=\"https://colab.research.google.com/github/EduardoAlfaroCh/Challenge-Store-Latam/blob/main/AluraStoreLatam.ipynb\" target=\"_parent\"><img src=\"https://colab.research.google.com/assets/colab-badge.svg\" alt=\"Open In Colab\"/></a>"
      ]
    },
    {
      "cell_type": "markdown",
      "source": [
        "### Importación de datos\n",
        "\n"
      ],
      "metadata": {
        "id": "RhEdWd9YUR6H"
      }
    },
    {
      "cell_type": "code",
      "execution_count": 1,
      "metadata": {
        "colab": {
          "base_uri": "https://localhost:8080/",
          "height": 206
        },
        "id": "T3EvaeQ_INIL",
        "outputId": "f8ac3cdc-6a4e-4676-993a-ecd6735551aa"
      },
      "outputs": [
        {
          "output_type": "execute_result",
          "data": {
            "text/plain": [
              "            Producto Categoría del Producto    Precio  Costo de envío  \\\n",
              "0  Asistente virtual           Electrónicos  164300.0          6900.0   \n",
              "1    Mesa de comedor                Muebles  192300.0          8400.0   \n",
              "2      Juego de mesa               Juguetes  209600.0         15900.0   \n",
              "3         Microondas      Electrodomésticos  757500.0         41000.0   \n",
              "4   Silla de oficina                Muebles  335200.0         20200.0   \n",
              "\n",
              "  Fecha de Compra         Vendedor Lugar de Compra  Calificación  \\\n",
              "0      16/01/2021      Pedro Gomez          Bogotá             4   \n",
              "1      18/05/2022  Beatriz Morales        Medellín             1   \n",
              "2      15/03/2021   Juan Fernandez       Cartagena             1   \n",
              "3      03/05/2022   Juan Fernandez            Cali             4   \n",
              "4      07/11/2020    Maria Alfonso        Medellín             5   \n",
              "\n",
              "       Método de pago  Cantidad de cuotas       lat       lon  \n",
              "0  Tarjeta de crédito                   8   4.60971 -74.08175  \n",
              "1  Tarjeta de crédito                   4   6.25184 -75.56359  \n",
              "2  Tarjeta de crédito                   1  10.39972 -75.51444  \n",
              "3               Nequi                   1   3.43722 -76.52250  \n",
              "4               Nequi                   1   6.25184 -75.56359  "
            ],
            "text/html": [
              "\n",
              "  <div id=\"df-e7ce1ae6-82fb-4dfe-b3dc-f2d6c98d4d05\" class=\"colab-df-container\">\n",
              "    <div>\n",
              "<style scoped>\n",
              "    .dataframe tbody tr th:only-of-type {\n",
              "        vertical-align: middle;\n",
              "    }\n",
              "\n",
              "    .dataframe tbody tr th {\n",
              "        vertical-align: top;\n",
              "    }\n",
              "\n",
              "    .dataframe thead th {\n",
              "        text-align: right;\n",
              "    }\n",
              "</style>\n",
              "<table border=\"1\" class=\"dataframe\">\n",
              "  <thead>\n",
              "    <tr style=\"text-align: right;\">\n",
              "      <th></th>\n",
              "      <th>Producto</th>\n",
              "      <th>Categoría del Producto</th>\n",
              "      <th>Precio</th>\n",
              "      <th>Costo de envío</th>\n",
              "      <th>Fecha de Compra</th>\n",
              "      <th>Vendedor</th>\n",
              "      <th>Lugar de Compra</th>\n",
              "      <th>Calificación</th>\n",
              "      <th>Método de pago</th>\n",
              "      <th>Cantidad de cuotas</th>\n",
              "      <th>lat</th>\n",
              "      <th>lon</th>\n",
              "    </tr>\n",
              "  </thead>\n",
              "  <tbody>\n",
              "    <tr>\n",
              "      <th>0</th>\n",
              "      <td>Asistente virtual</td>\n",
              "      <td>Electrónicos</td>\n",
              "      <td>164300.0</td>\n",
              "      <td>6900.0</td>\n",
              "      <td>16/01/2021</td>\n",
              "      <td>Pedro Gomez</td>\n",
              "      <td>Bogotá</td>\n",
              "      <td>4</td>\n",
              "      <td>Tarjeta de crédito</td>\n",
              "      <td>8</td>\n",
              "      <td>4.60971</td>\n",
              "      <td>-74.08175</td>\n",
              "    </tr>\n",
              "    <tr>\n",
              "      <th>1</th>\n",
              "      <td>Mesa de comedor</td>\n",
              "      <td>Muebles</td>\n",
              "      <td>192300.0</td>\n",
              "      <td>8400.0</td>\n",
              "      <td>18/05/2022</td>\n",
              "      <td>Beatriz Morales</td>\n",
              "      <td>Medellín</td>\n",
              "      <td>1</td>\n",
              "      <td>Tarjeta de crédito</td>\n",
              "      <td>4</td>\n",
              "      <td>6.25184</td>\n",
              "      <td>-75.56359</td>\n",
              "    </tr>\n",
              "    <tr>\n",
              "      <th>2</th>\n",
              "      <td>Juego de mesa</td>\n",
              "      <td>Juguetes</td>\n",
              "      <td>209600.0</td>\n",
              "      <td>15900.0</td>\n",
              "      <td>15/03/2021</td>\n",
              "      <td>Juan Fernandez</td>\n",
              "      <td>Cartagena</td>\n",
              "      <td>1</td>\n",
              "      <td>Tarjeta de crédito</td>\n",
              "      <td>1</td>\n",
              "      <td>10.39972</td>\n",
              "      <td>-75.51444</td>\n",
              "    </tr>\n",
              "    <tr>\n",
              "      <th>3</th>\n",
              "      <td>Microondas</td>\n",
              "      <td>Electrodomésticos</td>\n",
              "      <td>757500.0</td>\n",
              "      <td>41000.0</td>\n",
              "      <td>03/05/2022</td>\n",
              "      <td>Juan Fernandez</td>\n",
              "      <td>Cali</td>\n",
              "      <td>4</td>\n",
              "      <td>Nequi</td>\n",
              "      <td>1</td>\n",
              "      <td>3.43722</td>\n",
              "      <td>-76.52250</td>\n",
              "    </tr>\n",
              "    <tr>\n",
              "      <th>4</th>\n",
              "      <td>Silla de oficina</td>\n",
              "      <td>Muebles</td>\n",
              "      <td>335200.0</td>\n",
              "      <td>20200.0</td>\n",
              "      <td>07/11/2020</td>\n",
              "      <td>Maria Alfonso</td>\n",
              "      <td>Medellín</td>\n",
              "      <td>5</td>\n",
              "      <td>Nequi</td>\n",
              "      <td>1</td>\n",
              "      <td>6.25184</td>\n",
              "      <td>-75.56359</td>\n",
              "    </tr>\n",
              "  </tbody>\n",
              "</table>\n",
              "</div>\n",
              "    <div class=\"colab-df-buttons\">\n",
              "\n",
              "  <div class=\"colab-df-container\">\n",
              "    <button class=\"colab-df-convert\" onclick=\"convertToInteractive('df-e7ce1ae6-82fb-4dfe-b3dc-f2d6c98d4d05')\"\n",
              "            title=\"Convert this dataframe to an interactive table.\"\n",
              "            style=\"display:none;\">\n",
              "\n",
              "  <svg xmlns=\"http://www.w3.org/2000/svg\" height=\"24px\" viewBox=\"0 -960 960 960\">\n",
              "    <path d=\"M120-120v-720h720v720H120Zm60-500h600v-160H180v160Zm220 220h160v-160H400v160Zm0 220h160v-160H400v160ZM180-400h160v-160H180v160Zm440 0h160v-160H620v160ZM180-180h160v-160H180v160Zm440 0h160v-160H620v160Z\"/>\n",
              "  </svg>\n",
              "    </button>\n",
              "\n",
              "  <style>\n",
              "    .colab-df-container {\n",
              "      display:flex;\n",
              "      gap: 12px;\n",
              "    }\n",
              "\n",
              "    .colab-df-convert {\n",
              "      background-color: #E8F0FE;\n",
              "      border: none;\n",
              "      border-radius: 50%;\n",
              "      cursor: pointer;\n",
              "      display: none;\n",
              "      fill: #1967D2;\n",
              "      height: 32px;\n",
              "      padding: 0 0 0 0;\n",
              "      width: 32px;\n",
              "    }\n",
              "\n",
              "    .colab-df-convert:hover {\n",
              "      background-color: #E2EBFA;\n",
              "      box-shadow: 0px 1px 2px rgba(60, 64, 67, 0.3), 0px 1px 3px 1px rgba(60, 64, 67, 0.15);\n",
              "      fill: #174EA6;\n",
              "    }\n",
              "\n",
              "    .colab-df-buttons div {\n",
              "      margin-bottom: 4px;\n",
              "    }\n",
              "\n",
              "    [theme=dark] .colab-df-convert {\n",
              "      background-color: #3B4455;\n",
              "      fill: #D2E3FC;\n",
              "    }\n",
              "\n",
              "    [theme=dark] .colab-df-convert:hover {\n",
              "      background-color: #434B5C;\n",
              "      box-shadow: 0px 1px 3px 1px rgba(0, 0, 0, 0.15);\n",
              "      filter: drop-shadow(0px 1px 2px rgba(0, 0, 0, 0.3));\n",
              "      fill: #FFFFFF;\n",
              "    }\n",
              "  </style>\n",
              "\n",
              "    <script>\n",
              "      const buttonEl =\n",
              "        document.querySelector('#df-e7ce1ae6-82fb-4dfe-b3dc-f2d6c98d4d05 button.colab-df-convert');\n",
              "      buttonEl.style.display =\n",
              "        google.colab.kernel.accessAllowed ? 'block' : 'none';\n",
              "\n",
              "      async function convertToInteractive(key) {\n",
              "        const element = document.querySelector('#df-e7ce1ae6-82fb-4dfe-b3dc-f2d6c98d4d05');\n",
              "        const dataTable =\n",
              "          await google.colab.kernel.invokeFunction('convertToInteractive',\n",
              "                                                    [key], {});\n",
              "        if (!dataTable) return;\n",
              "\n",
              "        const docLinkHtml = 'Like what you see? Visit the ' +\n",
              "          '<a target=\"_blank\" href=https://colab.research.google.com/notebooks/data_table.ipynb>data table notebook</a>'\n",
              "          + ' to learn more about interactive tables.';\n",
              "        element.innerHTML = '';\n",
              "        dataTable['output_type'] = 'display_data';\n",
              "        await google.colab.output.renderOutput(dataTable, element);\n",
              "        const docLink = document.createElement('div');\n",
              "        docLink.innerHTML = docLinkHtml;\n",
              "        element.appendChild(docLink);\n",
              "      }\n",
              "    </script>\n",
              "  </div>\n",
              "\n",
              "\n",
              "<div id=\"df-a805a8c2-2535-4dd9-862e-5433d642ccc0\">\n",
              "  <button class=\"colab-df-quickchart\" onclick=\"quickchart('df-a805a8c2-2535-4dd9-862e-5433d642ccc0')\"\n",
              "            title=\"Suggest charts\"\n",
              "            style=\"display:none;\">\n",
              "\n",
              "<svg xmlns=\"http://www.w3.org/2000/svg\" height=\"24px\"viewBox=\"0 0 24 24\"\n",
              "     width=\"24px\">\n",
              "    <g>\n",
              "        <path d=\"M19 3H5c-1.1 0-2 .9-2 2v14c0 1.1.9 2 2 2h14c1.1 0 2-.9 2-2V5c0-1.1-.9-2-2-2zM9 17H7v-7h2v7zm4 0h-2V7h2v10zm4 0h-2v-4h2v4z\"/>\n",
              "    </g>\n",
              "</svg>\n",
              "  </button>\n",
              "\n",
              "<style>\n",
              "  .colab-df-quickchart {\n",
              "      --bg-color: #E8F0FE;\n",
              "      --fill-color: #1967D2;\n",
              "      --hover-bg-color: #E2EBFA;\n",
              "      --hover-fill-color: #174EA6;\n",
              "      --disabled-fill-color: #AAA;\n",
              "      --disabled-bg-color: #DDD;\n",
              "  }\n",
              "\n",
              "  [theme=dark] .colab-df-quickchart {\n",
              "      --bg-color: #3B4455;\n",
              "      --fill-color: #D2E3FC;\n",
              "      --hover-bg-color: #434B5C;\n",
              "      --hover-fill-color: #FFFFFF;\n",
              "      --disabled-bg-color: #3B4455;\n",
              "      --disabled-fill-color: #666;\n",
              "  }\n",
              "\n",
              "  .colab-df-quickchart {\n",
              "    background-color: var(--bg-color);\n",
              "    border: none;\n",
              "    border-radius: 50%;\n",
              "    cursor: pointer;\n",
              "    display: none;\n",
              "    fill: var(--fill-color);\n",
              "    height: 32px;\n",
              "    padding: 0;\n",
              "    width: 32px;\n",
              "  }\n",
              "\n",
              "  .colab-df-quickchart:hover {\n",
              "    background-color: var(--hover-bg-color);\n",
              "    box-shadow: 0 1px 2px rgba(60, 64, 67, 0.3), 0 1px 3px 1px rgba(60, 64, 67, 0.15);\n",
              "    fill: var(--button-hover-fill-color);\n",
              "  }\n",
              "\n",
              "  .colab-df-quickchart-complete:disabled,\n",
              "  .colab-df-quickchart-complete:disabled:hover {\n",
              "    background-color: var(--disabled-bg-color);\n",
              "    fill: var(--disabled-fill-color);\n",
              "    box-shadow: none;\n",
              "  }\n",
              "\n",
              "  .colab-df-spinner {\n",
              "    border: 2px solid var(--fill-color);\n",
              "    border-color: transparent;\n",
              "    border-bottom-color: var(--fill-color);\n",
              "    animation:\n",
              "      spin 1s steps(1) infinite;\n",
              "  }\n",
              "\n",
              "  @keyframes spin {\n",
              "    0% {\n",
              "      border-color: transparent;\n",
              "      border-bottom-color: var(--fill-color);\n",
              "      border-left-color: var(--fill-color);\n",
              "    }\n",
              "    20% {\n",
              "      border-color: transparent;\n",
              "      border-left-color: var(--fill-color);\n",
              "      border-top-color: var(--fill-color);\n",
              "    }\n",
              "    30% {\n",
              "      border-color: transparent;\n",
              "      border-left-color: var(--fill-color);\n",
              "      border-top-color: var(--fill-color);\n",
              "      border-right-color: var(--fill-color);\n",
              "    }\n",
              "    40% {\n",
              "      border-color: transparent;\n",
              "      border-right-color: var(--fill-color);\n",
              "      border-top-color: var(--fill-color);\n",
              "    }\n",
              "    60% {\n",
              "      border-color: transparent;\n",
              "      border-right-color: var(--fill-color);\n",
              "    }\n",
              "    80% {\n",
              "      border-color: transparent;\n",
              "      border-right-color: var(--fill-color);\n",
              "      border-bottom-color: var(--fill-color);\n",
              "    }\n",
              "    90% {\n",
              "      border-color: transparent;\n",
              "      border-bottom-color: var(--fill-color);\n",
              "    }\n",
              "  }\n",
              "</style>\n",
              "\n",
              "  <script>\n",
              "    async function quickchart(key) {\n",
              "      const quickchartButtonEl =\n",
              "        document.querySelector('#' + key + ' button');\n",
              "      quickchartButtonEl.disabled = true;  // To prevent multiple clicks.\n",
              "      quickchartButtonEl.classList.add('colab-df-spinner');\n",
              "      try {\n",
              "        const charts = await google.colab.kernel.invokeFunction(\n",
              "            'suggestCharts', [key], {});\n",
              "      } catch (error) {\n",
              "        console.error('Error during call to suggestCharts:', error);\n",
              "      }\n",
              "      quickchartButtonEl.classList.remove('colab-df-spinner');\n",
              "      quickchartButtonEl.classList.add('colab-df-quickchart-complete');\n",
              "    }\n",
              "    (() => {\n",
              "      let quickchartButtonEl =\n",
              "        document.querySelector('#df-a805a8c2-2535-4dd9-862e-5433d642ccc0 button');\n",
              "      quickchartButtonEl.style.display =\n",
              "        google.colab.kernel.accessAllowed ? 'block' : 'none';\n",
              "    })();\n",
              "  </script>\n",
              "</div>\n",
              "\n",
              "    </div>\n",
              "  </div>\n"
            ],
            "application/vnd.google.colaboratory.intrinsic+json": {
              "type": "dataframe",
              "variable_name": "tienda",
              "summary": "{\n  \"name\": \"tienda\",\n  \"rows\": 2359,\n  \"fields\": [\n    {\n      \"column\": \"Producto\",\n      \"properties\": {\n        \"dtype\": \"category\",\n        \"num_unique_values\": 51,\n        \"samples\": [\n          \"Guitarra ac\\u00fastica\",\n          \"Bal\\u00f3n de baloncesto\",\n          \"Smartwatch\"\n        ],\n        \"semantic_type\": \"\",\n        \"description\": \"\"\n      }\n    },\n    {\n      \"column\": \"Categor\\u00eda del Producto\",\n      \"properties\": {\n        \"dtype\": \"category\",\n        \"num_unique_values\": 8,\n        \"samples\": [\n          \"Muebles\",\n          \"Deportes y diversi\\u00f3n\",\n          \"Electr\\u00f3nicos\"\n        ],\n        \"semantic_type\": \"\",\n        \"description\": \"\"\n      }\n    },\n    {\n      \"column\": \"Precio\",\n      \"properties\": {\n        \"dtype\": \"number\",\n        \"std\": 614686.7653873172,\n        \"min\": 7600.0,\n        \"max\": 2977000.0,\n        \"num_unique_values\": 1937,\n        \"samples\": [\n          2499400.0,\n          14800.0,\n          80500.0\n        ],\n        \"semantic_type\": \"\",\n        \"description\": \"\"\n      }\n    },\n    {\n      \"column\": \"Costo de env\\u00edo\",\n      \"properties\": {\n        \"dtype\": \"number\",\n        \"std\": 32860.0017825605,\n        \"min\": 0.0,\n        \"max\": 160800.0,\n        \"num_unique_values\": 753,\n        \"samples\": [\n          117800.0,\n          54700.0,\n          45600.0\n        ],\n        \"semantic_type\": \"\",\n        \"description\": \"\"\n      }\n    },\n    {\n      \"column\": \"Fecha de Compra\",\n      \"properties\": {\n        \"dtype\": \"object\",\n        \"num_unique_values\": 1018,\n        \"samples\": [\n          \"15/09/2022\",\n          \"03/06/2020\",\n          \"06/11/2021\"\n        ],\n        \"semantic_type\": \"\",\n        \"description\": \"\"\n      }\n    },\n    {\n      \"column\": \"Vendedor\",\n      \"properties\": {\n        \"dtype\": \"category\",\n        \"num_unique_values\": 14,\n        \"samples\": [\n          \"Juliana Costa\",\n          \"Mariana Herrera\",\n          \"Pedro Gomez\"\n        ],\n        \"semantic_type\": \"\",\n        \"description\": \"\"\n      }\n    },\n    {\n      \"column\": \"Lugar de Compra\",\n      \"properties\": {\n        \"dtype\": \"category\",\n        \"num_unique_values\": 19,\n        \"samples\": [\n          \"Bogot\\u00e1\",\n          \"Pereira\",\n          \"Neiva\"\n        ],\n        \"semantic_type\": \"\",\n        \"description\": \"\"\n      }\n    },\n    {\n      \"column\": \"Calificaci\\u00f3n\",\n      \"properties\": {\n        \"dtype\": \"number\",\n        \"std\": 1,\n        \"min\": 1,\n        \"max\": 5,\n        \"num_unique_values\": 5,\n        \"samples\": [\n          1,\n          2,\n          5\n        ],\n        \"semantic_type\": \"\",\n        \"description\": \"\"\n      }\n    },\n    {\n      \"column\": \"M\\u00e9todo de pago\",\n      \"properties\": {\n        \"dtype\": \"category\",\n        \"num_unique_values\": 4,\n        \"samples\": [\n          \"Nequi\",\n          \"Tarjeta de d\\u00e9bito\",\n          \"Tarjeta de cr\\u00e9dito\"\n        ],\n        \"semantic_type\": \"\",\n        \"description\": \"\"\n      }\n    },\n    {\n      \"column\": \"Cantidad de cuotas\",\n      \"properties\": {\n        \"dtype\": \"number\",\n        \"std\": 2,\n        \"min\": 1,\n        \"max\": 24,\n        \"num_unique_values\": 15,\n        \"samples\": [\n          7,\n          14,\n          8\n        ],\n        \"semantic_type\": \"\",\n        \"description\": \"\"\n      }\n    },\n    {\n      \"column\": \"lat\",\n      \"properties\": {\n        \"dtype\": \"number\",\n        \"std\": 2.2874452492678627,\n        \"min\": -4.21528,\n        \"max\": 11.54444,\n        \"num_unique_values\": 19,\n        \"samples\": [\n          4.60971,\n          4.81333,\n          2.9273\n        ],\n        \"semantic_type\": \"\",\n        \"description\": \"\"\n      }\n    },\n    {\n      \"column\": \"lon\",\n      \"properties\": {\n        \"dtype\": \"number\",\n        \"std\": 1.2178272727088486,\n        \"min\": -77.28111,\n        \"max\": -67.9239,\n        \"num_unique_values\": 19,\n        \"samples\": [\n          -74.08175,\n          -75.69611,\n          -75.28189\n        ],\n        \"semantic_type\": \"\",\n        \"description\": \"\"\n      }\n    }\n  ]\n}"
            }
          },
          "metadata": {},
          "execution_count": 1
        }
      ],
      "source": [
        "import pandas as pd\n",
        "\n",
        "url = \"https://raw.githubusercontent.com/alura-es-cursos/challenge1-data-science-latam/refs/heads/main/base-de-datos-challenge1-latam/tienda_1%20.csv\"\n",
        "url2 = \"https://raw.githubusercontent.com/alura-es-cursos/challenge1-data-science-latam/refs/heads/main/base-de-datos-challenge1-latam/tienda_2.csv\"\n",
        "url3 = \"https://raw.githubusercontent.com/alura-es-cursos/challenge1-data-science-latam/refs/heads/main/base-de-datos-challenge1-latam/tienda_3.csv\"\n",
        "url4 = \"https://raw.githubusercontent.com/alura-es-cursos/challenge1-data-science-latam/refs/heads/main/base-de-datos-challenge1-latam/tienda_4.csv\"\n",
        "\n",
        "tienda = pd.read_csv(url)\n",
        "tienda2 = pd.read_csv(url2)\n",
        "tienda3 = pd.read_csv(url3)\n",
        "tienda4 = pd.read_csv(url4)\n",
        "\n",
        "tienda.head()"
      ]
    },
    {
      "cell_type": "markdown",
      "source": [
        "#1. Análisis de facturación\n",
        "\n"
      ],
      "metadata": {
        "id": "X62IW3KFUIYm"
      }
    },
    {
      "cell_type": "code",
      "source": [
        "# Calcular el ingreso total de cada tienda\n",
        "ingreso_tienda1 = tienda['Precio'].sum()\n",
        "ingreso_tienda2 = tienda2['Precio'].sum()\n",
        "ingreso_tienda3 = tienda3['Precio'].sum()\n",
        "ingreso_tienda4 = tienda4['Precio'].sum()\n",
        "\n",
        "print(f\"Ingreso total tienda 1: {ingreso_tienda1}\")\n",
        "print(f\"Ingreso total tienda 2: {ingreso_tienda2}\")\n",
        "print(f\"Ingreso total tienda 3: {ingreso_tienda3}\")\n",
        "print(f\"Ingreso total tienda 4: {ingreso_tienda4}\")\n"
      ],
      "metadata": {
        "id": "KDyr8E71V3m-",
        "colab": {
          "base_uri": "https://localhost:8080/"
        },
        "outputId": "ec238b13-e70d-414c-cfd9-83236078b2c0"
      },
      "execution_count": 6,
      "outputs": [
        {
          "output_type": "stream",
          "name": "stdout",
          "text": [
            "Ingreso total tienda 1: 1150880400.0\n",
            "Ingreso total tienda 2: 1116343500.0\n",
            "Ingreso total tienda 3: 1098019600.0\n",
            "Ingreso total tienda 4: 1038375700.0\n"
          ]
        }
      ]
    },
    {
      "cell_type": "markdown",
      "source": [
        "# 2. Ventas por categoría"
      ],
      "metadata": {
        "id": "2V_vcAPzWZmR"
      }
    },
    {
      "cell_type": "code",
      "source": [
        "# Agrupar por categoría y contar las ventas en cada tienda\n",
        "ventas_categoria_tienda1 = tienda.groupby('Categoría del Producto')['Producto'].count()\n",
        "ventas_categoria_tienda2 = tienda2.groupby('Categoría del Producto')['Producto'].count()\n",
        "ventas_categoria_tienda3 = tienda3.groupby('Categoría del Producto')['Producto'].count()\n",
        "ventas_categoria_tienda4 = tienda4.groupby('Categoría del Producto')['Producto'].count()\n",
        "\n",
        "# Mostrar las categorías más populares de cada tienda\n",
        "print(\"Tienda 1:\")\n",
        "print(ventas_categoria_tienda1.sort_values(ascending=False))\n",
        "print(\"\\nTienda 2:\")\n",
        "print(ventas_categoria_tienda2.sort_values(ascending=False))\n",
        "print(\"\\nTienda 3:\")\n",
        "print(ventas_categoria_tienda3.sort_values(ascending=False))\n",
        "print(\"\\nTienda 4:\")\n",
        "print(ventas_categoria_tienda4.sort_values(ascending=False))"
      ],
      "metadata": {
        "id": "yZR6cOjXYSk1",
        "colab": {
          "base_uri": "https://localhost:8080/"
        },
        "outputId": "2a876ced-1bc9-40bd-e7f4-8d0563b9d370"
      },
      "execution_count": 11,
      "outputs": [
        {
          "output_type": "stream",
          "name": "stdout",
          "text": [
            "Tienda 1:\n",
            "Categoría del Producto\n",
            "Muebles                    465\n",
            "Electrónicos               448\n",
            "Juguetes                   324\n",
            "Electrodomésticos          312\n",
            "Deportes y diversión       284\n",
            "Instrumentos musicales     182\n",
            "Libros                     173\n",
            "Artículos para el hogar    171\n",
            "Name: Producto, dtype: int64\n",
            "\n",
            "Tienda 2:\n",
            "Categoría del Producto\n",
            "Muebles                    442\n",
            "Electrónicos               422\n",
            "Juguetes                   313\n",
            "Electrodomésticos          305\n",
            "Deportes y diversión       275\n",
            "Instrumentos musicales     224\n",
            "Libros                     197\n",
            "Artículos para el hogar    181\n",
            "Name: Producto, dtype: int64\n",
            "\n",
            "Tienda 3:\n",
            "Categoría del Producto\n",
            "Muebles                    499\n",
            "Electrónicos               451\n",
            "Juguetes                   315\n",
            "Electrodomésticos          278\n",
            "Deportes y diversión       277\n",
            "Libros                     185\n",
            "Artículos para el hogar    177\n",
            "Instrumentos musicales     177\n",
            "Name: Producto, dtype: int64\n",
            "\n",
            "Tienda 4:\n",
            "Categoría del Producto\n",
            "Muebles                    480\n",
            "Electrónicos               451\n",
            "Juguetes                   338\n",
            "Deportes y diversión       277\n",
            "Electrodomésticos          254\n",
            "Artículos para el hogar    201\n",
            "Libros                     187\n",
            "Instrumentos musicales     170\n",
            "Name: Producto, dtype: int64\n"
          ]
        }
      ]
    },
    {
      "cell_type": "markdown",
      "source": [
        "# 3. Calificación promedio de la tienda\n"
      ],
      "metadata": {
        "id": "Rq6tU_xSY3jk"
      }
    },
    {
      "cell_type": "code",
      "source": [
        "# Calcular la calificación promedio de cada tienda\n",
        "calificacion_promedio_tienda1 = tienda['Calificación'].mean()\n",
        "calificacion_promedio_tienda2 = tienda2['Calificación'].mean()\n",
        "calificacion_promedio_tienda3 = tienda3['Calificación'].mean()\n",
        "calificacion_promedio_tienda4 = tienda4['Calificación'].mean()\n",
        "\n",
        "print(f\"Calificación promedio tienda 1: {calificacion_promedio_tienda1}\")\n",
        "print(f\"Calificación promedio tienda 2: {calificacion_promedio_tienda2}\")\n",
        "print(f\"Calificación promedio tienda 3: {calificacion_promedio_tienda3}\")\n",
        "print(f\"Calificación promedio tienda 4: {calificacion_promedio_tienda4}\")"
      ],
      "metadata": {
        "id": "I0KkjPoTY88F",
        "colab": {
          "base_uri": "https://localhost:8080/"
        },
        "outputId": "86b75143-d79c-4922-b977-1b8839ae486d"
      },
      "execution_count": 13,
      "outputs": [
        {
          "output_type": "stream",
          "name": "stdout",
          "text": [
            "Calificación promedio tienda 1: 3.976685036032217\n",
            "Calificación promedio tienda 2: 4.037303942348453\n",
            "Calificación promedio tienda 3: 4.048325561678677\n",
            "Calificación promedio tienda 4: 3.9957591178965224\n"
          ]
        }
      ]
    },
    {
      "cell_type": "markdown",
      "source": [
        "# 4. Productos más y menos vendidos"
      ],
      "metadata": {
        "id": "DmNp1KPBZCm-"
      }
    },
    {
      "cell_type": "code",
      "source": [
        "# Productos más vendidos y menos vendidos\n",
        "\n",
        "def analizar_ventas(tienda, nombre_tienda):\n",
        "    ventas_producto = tienda.groupby('Producto')['Producto'].count() # Agrupo y cuento por producto por que es el mismo nombre y eso no cambiara, como si podria por ejemplo si cuento por precio que podria variar por descuentos o algo parecido.\n",
        "    producto_mas_vendido = ventas_producto.idxmax()\n",
        "    producto_menos_vendido = ventas_producto.idxmin()\n",
        "\n",
        "    print(f\"\\n{nombre_tienda}:\")\n",
        "    print(f\"Producto más vendido: {producto_mas_vendido} (Ventas: {ventas_producto.max()})\")\n",
        "    print(f\"Producto menos vendido: {producto_menos_vendido} (Ventas: {ventas_producto.min()})\")\n",
        "\n",
        "analizar_ventas(tienda, \"Tienda 1\")\n",
        "analizar_ventas(tienda2, \"Tienda 2\")\n",
        "analizar_ventas(tienda3, \"Tienda 3\")\n",
        "analizar_ventas(tienda4, \"Tienda 4\")"
      ],
      "metadata": {
        "id": "0Sw3sd4IZIGW",
        "colab": {
          "base_uri": "https://localhost:8080/"
        },
        "outputId": "c17df26d-7e90-4835-d9ba-4ec2000c7258"
      },
      "execution_count": 19,
      "outputs": [
        {
          "output_type": "stream",
          "name": "stdout",
          "text": [
            "\n",
            "Tienda 1:\n",
            "Producto más vendido: Armario (Ventas: 60)\n",
            "Producto menos vendido: Auriculares con micrófono (Ventas: 33)\n",
            "\n",
            "Tienda 2:\n",
            "Producto más vendido: Iniciando en programación (Ventas: 65)\n",
            "Producto menos vendido: Juego de mesa (Ventas: 32)\n",
            "\n",
            "Tienda 3:\n",
            "Producto más vendido: Kit de bancas (Ventas: 57)\n",
            "Producto menos vendido: Bloques de construcción (Ventas: 35)\n",
            "\n",
            "Tienda 4:\n",
            "Producto más vendido: Cama box (Ventas: 62)\n",
            "Producto menos vendido: Guitarra eléctrica (Ventas: 33)\n"
          ]
        }
      ]
    },
    {
      "cell_type": "markdown",
      "source": [
        "# 5. Envío promedio por tienda"
      ],
      "metadata": {
        "id": "Fl0cGi3bZKqU"
      }
    },
    {
      "cell_type": "code",
      "source": [
        "# Calcular el costo de envío promedio para cada tienda\n",
        "costo_envio_promedio_tienda1 = tienda['Costo de envío'].mean()\n",
        "costo_envio_promedio_tienda2 = tienda2['Costo de envío'].mean()\n",
        "costo_envio_promedio_tienda3 = tienda3['Costo de envío'].mean()\n",
        "costo_envio_promedio_tienda4 = tienda4['Costo de envío'].mean()\n",
        "\n",
        "print(f\"Costo de envío promedio tienda 1: {costo_envio_promedio_tienda1}\")\n",
        "print(f\"Costo de envío promedio tienda 2: {costo_envio_promedio_tienda2}\")\n",
        "print(f\"Costo de envío promedio tienda 3: {costo_envio_promedio_tienda3}\")\n",
        "print(f\"Costo de envío promedio tienda 4: {costo_envio_promedio_tienda4}\")"
      ],
      "metadata": {
        "id": "0tSdCie9ZQlt",
        "colab": {
          "base_uri": "https://localhost:8080/"
        },
        "outputId": "c6eb10b9-4fed-4aaf-c75a-23841f698259"
      },
      "execution_count": 20,
      "outputs": [
        {
          "output_type": "stream",
          "name": "stdout",
          "text": [
            "Costo de envío promedio tienda 1: 26018.60958033065\n",
            "Costo de envío promedio tienda 2: 25216.235693090293\n",
            "Costo de envío promedio tienda 3: 24805.680373039424\n",
            "Costo de envío promedio tienda 4: 23459.457167090754\n"
          ]
        }
      ]
    },
    {
      "cell_type": "markdown",
      "source": [
        "# 6. Gráficos"
      ],
      "metadata": {
        "id": "ZM767a20oVd8"
      }
    },
    {
      "cell_type": "code",
      "source": [
        "import matplotlib.pyplot as plt\n",
        "\n",
        "# Datos para los gráficos\n",
        "tiendas = ['Tienda 1', 'Tienda 2', 'Tienda 3', 'Tienda 4']\n",
        "ingresos = [ingreso_tienda1, ingreso_tienda2, ingreso_tienda3, ingreso_tienda4]\n",
        "calificaciones = [calificacion_promedio_tienda1, calificacion_promedio_tienda2, calificacion_promedio_tienda3, calificacion_promedio_tienda4]\n",
        "costos_envio = [costo_envio_promedio_tienda1, costo_envio_promedio_tienda2, costo_envio_promedio_tienda3, costo_envio_promedio_tienda4]\n",
        "\n",
        "# Gráfico de barras: Ingresos por tienda\n",
        "plt.figure(figsize=(8, 6))\n",
        "plt.bar(tiendas, ingresos, color=['skyblue', 'lightcoral', 'lightgreen', 'lightgray'])\n",
        "plt.title('Ingresos totales por tienda')\n",
        "plt.xlabel('Tienda')\n",
        "plt.ylabel('Ingreso total')\n",
        "plt.show()\n",
        "\n",
        "\n",
        "# Gráfico de líneas: Calificaciones promedio\n",
        "plt.figure(figsize=(8, 6))\n",
        "plt.plot(tiendas, calificaciones, marker='o', linestyle='-', color='Green')\n",
        "plt.title('Calificación promedio por tienda')\n",
        "plt.xlabel('Tienda')\n",
        "plt.ylabel('Calificación promedio')\n",
        "plt.show()\n",
        "\n",
        "\n",
        "# Gráfico de dispersión: Costo de envío vs. Ingresos\n",
        "plt.figure(figsize=(8, 6))\n",
        "plt.scatter(ingresos, costos_envio, color='Blue', alpha=0.7)\n",
        "plt.title('Costo de envío vs. Ingresos por tienda')\n",
        "plt.xlabel('Ingreso total')\n",
        "plt.ylabel('Costo de envío promedio')\n",
        "for i, txt in enumerate(tiendas):\n",
        "    plt.annotate(txt, (ingresos[i], costos_envio[i]))\n",
        "plt.show()"
      ],
      "metadata": {
        "colab": {
          "base_uri": "https://localhost:8080/",
          "height": 1000
        },
        "id": "7QoGZL4cntBN",
        "outputId": "5112171a-ecca-4b40-a770-336d9c887390"
      },
      "execution_count": 37,
      "outputs": [
        {
          "output_type": "display_data",
          "data": {
            "text/plain": [
              "<Figure size 800x600 with 1 Axes>"
            ],
            "image/png": "[encoded data removed]"
          },
          "metadata": {}
        },
        {
          "output_type": "display_data",
          "data": {
            "text/plain": [
              "<Figure size 800x600 with 1 Axes>"
            ],
            "image/png": "[encoded data removed]"
          },
          "metadata": {}
        },
        {
          "output_type": "display_data",
          "data": {
            "text/plain": [
              "<Figure size 800x600 with 1 Axes>"
            ],
            "image/png": "[encoded data removed]"
          },
          "metadata": {}
        }
      ]
    },
    {
      "cell_type": "markdown",
      "source": [
        "# 7. Informe Final"
      ],
      "metadata": {
        "id": "-bIUdbmtpTzG"
      }
    },
    {
      "cell_type": "code",
      "source": [
        "def imprimir_informe():\n",
        "    print(\"Informe Final: Selección de Tienda para el Sr. Juan \\n\")\n",
        "\n",
        "    # Introducción\n",
        "    print(\"El objetivo de este análisis es determinar cuál de las cuatro tiendas es la más adecuada para que el Sr. Juan venda sus productos,\")\n",
        "    print(\"tomando en cuenta cinco factores principales: ingresos totales, categorías de productos más y menos vendidas,\")\n",
        "    print(\"calificación promedio de clientes, productos más y menos vendidos, y costos de envío promedio.\")\n",
        "    print(\"Este informe sintetiza los hallazgos clave de cada tienda y justifica la recomendación final basada en\")\n",
        "    print(\"una evaluación objetiva de sus fortalezas y debilidades.\\n\")\n",
        "\n",
        "    # Desarrollo\n",
        "    print(\"1. Ingresos Totales\")\n",
        "    print(\"Los ingresos totales son un indicador importante del volumen de ventas y la capacidad de mercado de cada tienda:\")\n",
        "    print(\"- Tienda 1: 1,150,880,400.0\")\n",
        "    print(\"- Tienda 2: 1,116,343,500.0\")\n",
        "    print(\"- Tienda 3: 1,098,019,600.0\")\n",
        "    print(\"- Tienda 4: 1,038,375,700.0\")\n",
        "    print(\"\\nLa Tienda 1 registra los ingresos más altos, lo que demuestra un mercado dinámico y posiblemente una mayor afluencia de clientes.\\n\")\n",
        "\n",
        "    print(\"2. Categorías de Productos Más y Menos Vendidas\")\n",
        "    print(\"Es relevante identificar las categorías con mayor demanda y aquellas con menor movimiento:\")\n",
        "    print(\"- Tienda 1: Más vendidos: Muebles (465), Electrónicos (448); Menos vendidos: Artículos para el hogar (171), Libros (173).\")\n",
        "    print(\"- Tienda 2: Más vendidos: Muebles (442), Electrónicos (422); Menos vendidos: Libros (197), Artículos para el hogar (181).\")\n",
        "    print(\"- Tienda 3: Más vendidos: Muebles (499), Electrónicos (451); Menos vendidos: Instrumentos musicales (177), Artículos para el hogar (177).\")\n",
        "    print(\"- Tienda 4: Más vendidos: Muebles (480), Electrónicos (451); Menos vendidos: Instrumentos musicales (170), Guitarras eléctricas (170).\")\n",
        "    print(\"\\nEn todas las tiendas, la categoría de muebles domina las ventas, mostrando una tendencia clara de los consumidores hacia esta clase de producto.\")\n",
        "    print(\"Los artículos menos vendidos varían ligeramente, pero tienden a ser más específicos o especializados.\\n\")\n",
        "\n",
        "    print(\"3. Calificaciones Promedio de Clientes\")\n",
        "    print(\"La satisfacción del cliente es crucial para la reputación y la competitividad de cada tienda:\")\n",
        "    print(\"- Tienda 1: 3.98\")\n",
        "    print(\"- Tienda 2: 4.04\")\n",
        "    print(\"- Tienda 3: 4.05\")\n",
        "    print(\"- Tienda 4: 4.00\")\n",
        "    print(\"\\nLa Tienda 3 tiene la calificación más alta, seguida de cerca por la Tienda 2. Esto sugiere una mejor experiencia para los clientes en ambas.\\n\")\n",
        "\n",
        "    print(\"4. Productos Más y Menos Vendidos\")\n",
        "    print(\"Identificar los productos más y menos vendidos permite explorar oportunidades de mercado:\")\n",
        "    print(\"- Tienda 1: Más vendido: Armario (60); Menos vendido: Auriculares con micrófono (33).\")\n",
        "    print(\"- Tienda 2: Más vendido: Iniciando en programación (65); Menos vendido: Juego de mesa (32).\")\n",
        "    print(\"- Tienda 3: Más vendido: Kit de bancas (57); Menos vendido: Bloques de construcción (35).\")\n",
        "    print(\"- Tienda 4: Más vendido: Cama box (62); Menos vendido: Guitarra eléctrica (33).\")\n",
        "    print(\"\\nLos productos más vendidos de cada tienda tienden a ser funcionales, mientras que los menos vendidos corresponden a nichos más específicos.\\n\")\n",
        "\n",
        "    print(\"5. Costos de Envío Promedio\")\n",
        "    print(\"El costo de envío afecta la accesibilidad y rentabilidad de las operaciones para el Sr. Juan:\")\n",
        "    print(\"- Tienda 1: 26,018.61\")\n",
        "    print(\"- Tienda 2: 25,216.24\")\n",
        "    print(\"- Tienda 3: 24,805.68\")\n",
        "    print(\"- Tienda 4: 23,459.46\")\n",
        "    print(\"\\nLa Tienda 4 ofrece el costo de envío promedio más bajo, lo que podría ser una ventaja económica significativa.\\n\")\n",
        "\n",
        "    # Conclusión\n",
        "    print(\"Recomendación \\n\")\n",
        "    print(\"Tras considerar todos los factores analizados, la Tienda 3 destaca como la mejor opción para el Sr. Juan.\")\n",
        "    print(\"Aunque sus ingresos totales son ligeramente inferiores a los de la Tienda 1, cuenta con la calificación promedio más alta,\")\n",
        "    print(\"lo cual indica una mejor experiencia y satisfacción de los clientes.\")\n",
        "    print(\"\\nLa Tienda 4, aunque presenta el menor costo de envío, tiene ingresos y calificaciones inferiores. Por otro lado, la Tienda 1\")\n",
        "    print(\"y la Tienda 2 son competitivas en ingresos, pero sus calificaciones y costos de envío no logran superar las fortalezas de la Tienda 3.\")\n",
        "    print(\"\\nPor lo tanto, se recomienda que el Sr. Juan concentre sus esfuerzos en la Tienda 3 para maximizar sus oportunidades de venta en\")\n",
        "    print(\"un mercado con alta demanda y una sólida reputación entre los clientes.\")\n",
        "\n",
        "# Llamar a la función\n",
        "imprimir_informe()"
      ],
      "metadata": {
        "colab": {
          "base_uri": "https://localhost:8080/"
        },
        "id": "oNzL0ffbsjCo",
        "outputId": "acaa13c4-509b-4e1b-fab2-eb115260bfff"
      },
      "execution_count": 31,
      "outputs": [
        {
          "output_type": "stream",
          "name": "stdout",
          "text": [
            "Informe Final: Selección de Tienda para el Sr. Juan \n",
            "\n",
            "El objetivo de este análisis es determinar cuál de las cuatro tiendas es la más adecuada para que el Sr. Juan venda sus productos,\n",
            "tomando en cuenta cinco factores principales: ingresos totales, categorías de productos más y menos vendidas,\n",
            "calificación promedio de clientes, productos más y menos vendidos, y costos de envío promedio.\n",
            "Este informe sintetiza los hallazgos clave de cada tienda y justifica la recomendación final basada en\n",
            "una evaluación objetiva de sus fortalezas y debilidades.\n",
            "\n",
            "1. Ingresos Totales\n",
            "Los ingresos totales son un indicador importante del volumen de ventas y la capacidad de mercado de cada tienda:\n",
            "- Tienda 1: 1,150,880,400.0\n",
            "- Tienda 2: 1,116,343,500.0\n",
            "- Tienda 3: 1,098,019,600.0\n",
            "- Tienda 4: 1,038,375,700.0\n",
            "\n",
            "La Tienda 1 registra los ingresos más altos, lo que demuestra un mercado dinámico y posiblemente una mayor afluencia de clientes.\n",
            "\n",
            "2. Categorías de Productos Más y Menos Vendidas\n",
            "Es relevante identificar las categorías con mayor demanda y aquellas con menor movimiento:\n",
            "- Tienda 1: Más vendidos: Muebles (465), Electrónicos (448); Menos vendidos: Artículos para el hogar (171), Libros (173).\n",
            "- Tienda 2: Más vendidos: Muebles (442), Electrónicos (422); Menos vendidos: Libros (197), Artículos para el hogar (181).\n",
            "- Tienda 3: Más vendidos: Muebles (499), Electrónicos (451); Menos vendidos: Instrumentos musicales (177), Artículos para el hogar (177).\n",
            "- Tienda 4: Más vendidos: Muebles (480), Electrónicos (451); Menos vendidos: Instrumentos musicales (170), Guitarras eléctricas (170).\n",
            "\n",
            "En todas las tiendas, la categoría de muebles domina las ventas, mostrando una tendencia clara de los consumidores hacia esta clase de producto.\n",
            "Los artículos menos vendidos varían ligeramente, pero tienden a ser más específicos o especializados.\n",
            "\n",
            "3. Calificaciones Promedio de Clientes\n",
            "La satisfacción del cliente es crucial para la reputación y la competitividad de cada tienda:\n",
            "- Tienda 1: 3.98\n",
            "- Tienda 2: 4.04\n",
            "- Tienda 3: 4.05\n",
            "- Tienda 4: 4.00\n",
            "\n",
            "La Tienda 3 tiene la calificación más alta, seguida de cerca por la Tienda 2. Esto sugiere una mejor experiencia para los clientes en ambas.\n",
            "\n",
            "4. Productos Más y Menos Vendidos\n",
            "Identificar los productos más y menos vendidos permite explorar oportunidades de mercado:\n",
            "- Tienda 1: Más vendido: Armario (60); Menos vendido: Auriculares con micrófono (33).\n",
            "- Tienda 2: Más vendido: Iniciando en programación (65); Menos vendido: Juego de mesa (32).\n",
            "- Tienda 3: Más vendido: Kit de bancas (57); Menos vendido: Bloques de construcción (35).\n",
            "- Tienda 4: Más vendido: Cama box (62); Menos vendido: Guitarra eléctrica (33).\n",
            "\n",
            "Los productos más vendidos de cada tienda tienden a ser funcionales, mientras que los menos vendidos corresponden a nichos más específicos.\n",
            "\n",
            "5. Costos de Envío Promedio\n",
            "El costo de envío afecta la accesibilidad y rentabilidad de las operaciones para el Sr. Juan:\n",
            "- Tienda 1: 26,018.61\n",
            "- Tienda 2: 25,216.24\n",
            "- Tienda 3: 24,805.68\n",
            "- Tienda 4: 23,459.46\n",
            "\n",
            "La Tienda 4 ofrece el costo de envío promedio más bajo, lo que podría ser una ventaja económica significativa.\n",
            "\n",
            "Recomendación \n",
            "\n",
            "Tras considerar todos los factores analizados, la Tienda 3 destaca como la mejor opción para el Sr. Juan.\n",
            "Aunque sus ingresos totales son ligeramente inferiores a los de la Tienda 1, cuenta con la calificación promedio más alta,\n",
            "lo cual indica una mejor experiencia y satisfacción de los clientes.\n",
            "\n",
            "La Tienda 4, aunque presenta el menor costo de envío, tiene ingresos y calificaciones inferiores. Por otro lado, la Tienda 1\n",
            "y la Tienda 2 son competitivas en ingresos, pero sus calificaciones y costos de envío no logran superar las fortalezas de la Tienda 3.\n",
            "\n",
            "Por lo tanto, se recomienda que el Sr. Juan concentre sus esfuerzos en la Tienda 3 para maximizar sus oportunidades de venta en\n",
            "un mercado con alta demanda y una sólida reputación entre los clientes.\n"
          ]
        }
      ]
    }
  ]
}